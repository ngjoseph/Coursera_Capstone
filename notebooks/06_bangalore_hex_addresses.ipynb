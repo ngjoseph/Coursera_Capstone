{
 "cells": [
  {
   "cell_type": "markdown",
   "metadata": {},
   "source": [
    "# Obtain Hex Addresses\r\n",
    "\r\n",
    "We will use reverse geocoding to find the nearest address to each hex centre."
   ]
  },
  {
   "cell_type": "code",
   "execution_count": 1,
   "metadata": {},
   "outputs": [],
   "source": [
    "import geopandas as gpd\r\n",
    "import numpy as np\r\n",
    "\r\n",
    "from ratelimiter import RateLimiter\r\n",
    "from diskcache import Cache\r\n",
    "from tqdm.notebook import tqdm\r\n",
    "\r\n",
    "from geopy.distance import distance\r\n",
    "from geopy import Nominatim\r\n",
    "\r\n",
    "import plotly.express as px"
   ]
  },
  {
   "cell_type": "code",
   "execution_count": 2,
   "metadata": {},
   "outputs": [],
   "source": [
    "# Set cache location for Nominatim requests\r\n",
    "nom_cache = '../data/cache/nominatim'\r\n",
    "\r\n",
    "# Create Nominatim geocoder object with custom user agent as required by their terms of service\r\n",
    "geocoder = Nominatim(user_agent = 'coursera_capstone')\r\n",
    "\r\n",
    "# Create RateLimiter object to ensure we don't exceed Nominatim's 1 reqest per second rule\r\n",
    "limiter = RateLimiter(max_calls = 1, period = 1)"
   ]
  },
  {
   "cell_type": "markdown",
   "metadata": {},
   "source": [
    "## Load Data\r\n",
    "\r\n",
    "Data is loaded from the GeoJSON file created earlier and displayed."
   ]
  },
  {
   "cell_type": "code",
   "execution_count": 3,
   "metadata": {},
   "outputs": [],
   "source": [
    "df_hex = gpd.read_file('../data/bangalore_hex_grid.geojson')"
   ]
  },
  {
   "cell_type": "code",
   "execution_count": 4,
   "metadata": {},
   "outputs": [
    {
     "name": "stdout",
     "output_type": "stream",
     "text": [
      "(2904, 5)\n"
     ]
    },
    {
     "data": {
      "text/html": "<div>\n<style scoped>\n    .dataframe tbody tr th:only-of-type {\n        vertical-align: middle;\n    }\n\n    .dataframe tbody tr th {\n        vertical-align: top;\n    }\n\n    .dataframe thead th {\n        text-align: right;\n    }\n</style>\n<table border=\"1\" class=\"dataframe\">\n  <thead>\n    <tr style=\"text-align: right;\">\n      <th></th>\n      <th>id</th>\n      <th>centre_lat</th>\n      <th>centre_lng</th>\n      <th>resolution</th>\n      <th>geometry</th>\n    </tr>\n  </thead>\n  <tbody>\n    <tr>\n      <th>0</th>\n      <td>886014432dfffff</td>\n      <td>12.964012</td>\n      <td>77.438640</td>\n      <td>8</td>\n      <td>POLYGON ((77.44280 12.96151, 77.44289 12.96649...</td>\n    </tr>\n    <tr>\n      <th>1</th>\n      <td>88618936cbfffff</td>\n      <td>12.708381</td>\n      <td>77.729075</td>\n      <td>8</td>\n      <td>POLYGON ((77.73325 12.70586, 77.73333 12.71086...</td>\n    </tr>\n    <tr>\n      <th>2</th>\n      <td>8861892d67fffff</td>\n      <td>13.112819</td>\n      <td>77.710739</td>\n      <td>8</td>\n      <td>POLYGON ((77.71492 13.11031, 77.71500 13.11530...</td>\n    </tr>\n    <tr>\n      <th>3</th>\n      <td>886014c993fffff</td>\n      <td>12.776673</td>\n      <td>77.540713</td>\n      <td>8</td>\n      <td>POLYGON ((77.54488 12.77416, 77.54496 12.77915...</td>\n    </tr>\n    <tr>\n      <th>4</th>\n      <td>8860145837fffff</td>\n      <td>13.016192</td>\n      <td>77.494183</td>\n      <td>8</td>\n      <td>POLYGON ((77.49835 13.01369, 77.49843 13.01867...</td>\n    </tr>\n  </tbody>\n</table>\n</div>",
      "text/plain": "                id  centre_lat  centre_lng  resolution  \\\n0  886014432dfffff   12.964012   77.438640           8   \n1  88618936cbfffff   12.708381   77.729075           8   \n2  8861892d67fffff   13.112819   77.710739           8   \n3  886014c993fffff   12.776673   77.540713           8   \n4  8860145837fffff   13.016192   77.494183           8   \n\n                                            geometry  \n0  POLYGON ((77.44280 12.96151, 77.44289 12.96649...  \n1  POLYGON ((77.73325 12.70586, 77.73333 12.71086...  \n2  POLYGON ((77.71492 13.11031, 77.71500 13.11530...  \n3  POLYGON ((77.54488 12.77416, 77.54496 12.77915...  \n4  POLYGON ((77.49835 13.01369, 77.49843 13.01867...  "
     },
     "execution_count": 4,
     "metadata": {},
     "output_type": "execute_result"
    }
   ],
   "source": [
    "print(df_hex.shape)\r\n",
    "df_hex.head()"
   ]
  },
  {
   "cell_type": "markdown",
   "metadata": {},
   "source": [
    "We obtain the closest addresses of each hex centre using Nominatim reverse geocoding. We need to cache the responses received, since querying Nominatim is quite slow."
   ]
  },
  {
   "cell_type": "code",
   "execution_count": 5,
   "metadata": {},
   "outputs": [
    {
     "data": {
      "application/vnd.jupyter.widget-view+json": {
       "model_id": "609b4d5f24e948848f743a49e0013cd1",
       "version_major": 2,
       "version_minor": 0
      },
      "text/plain": "  0%|          | 0/2904 [00:00<?, ?it/s]"
     },
     "metadata": {},
     "output_type": "display_data"
    },
    {
     "name": "stdout",
     "output_type": "stream",
     "text": [
      "0 new queries made.\n"
     ]
    }
   ],
   "source": [
    "# Empty lists to store responses\r\n",
    "address = []\r\n",
    "addr_coord = []\r\n",
    "\r\n",
    "points = df_hex[['centre_lat', 'centre_lng']].to_records()\r\n",
    "\r\n",
    "queries = 0 # Added variable to track number of records retrieved from cache\r\n",
    "\r\n",
    "with Cache(nom_cache) as cache:\r\n",
    "    for p in tqdm(points):\r\n",
    "        query = (p.centre_lat, p.centre_lng)\r\n",
    "        key = str(query) #! key must be a unique string\r\n",
    "        if key in cache:\r\n",
    "            response = cache[key] # Read cached value\r\n",
    "        else:\r\n",
    "            with limiter:\r\n",
    "                response = geocoder.reverse(query, timeout = 30, addressdetails=True)\r\n",
    "                cache[key] = response # Set cache value\r\n",
    "                queries += 1\r\n",
    "            \r\n",
    "        address.append(response.address)\r\n",
    "        addr_coord.append((response.latitude, response.longitude))\r\n",
    "print('{} new queries made.'.format(queries))"
   ]
  },
  {
   "cell_type": "markdown",
   "metadata": {},
   "source": [
    "## Calculating Distances\r\n",
    "\r\n",
    "We use geopy to calculate the geodesic distance between each hexagon centre and the address obtained. We want to check if the addresses provided are close to the hex centres. There will be some distance though, so we will set a threshold above which we consider it an issue."
   ]
  },
  {
   "cell_type": "code",
   "execution_count": 6,
   "metadata": {},
   "outputs": [
    {
     "name": "stdout",
     "output_type": "stream",
     "text": [
      "88.12 percent of the errors are below 300 meters\n"
     ]
    },
    {
     "data": {
      "application/vnd.plotly.v1+json": {
       "config": {
        "plotlyServerURL": "https://plot.ly"
       },
       "data": [
        {
         "alignmentgroup": "True",
         "bingroup": "x",
         "histnorm": "percent",
         "hovertemplate": "x=%{x}<br>percent=%{y}<extra></extra>",
         "legendgroup": "",
         "marker": {
          "color": "#636efa"
         },
         "name": "",
         "offsetgroup": "",
         "orientation": "v",
         "showlegend": false,
         "type": "histogram",
         "x": [
          1540.4600986368923,
          3375.9598890600446,
          580.1358925057617,
          466.70763022295597,
          525.1950836171753,
          353.24043689371075,
          311.8514305852097,
          315.65750678355994,
          450.1855984919621,
          309.8225519406891,
          323.6579499041555,
          575.9779459276756,
          480.80321292105486,
          498.95076607422067,
          33312.56272132117,
          326.3606575688277,
          372.08798926723284,
          32883.45858648894,
          3162.0868975642757,
          305.2774852215836,
          1781.0285817230986,
          1095.5617046289553,
          326.25967486426686,
          319.49259620654476,
          367.56169476117026,
          334.5353128494048,
          447.282027095976,
          518.6556506639432,
          429.8196990272072,
          410.2811941488025,
          454.6332621743919,
          652.14824734096,
          458.267819465336,
          491.54782070368816,
          381.7440782628161,
          557.4549361337029,
          457.83505793732695,
          532.7674262978541,
          574.2631606933197,
          535.5264058746266,
          376.6196884461607,
          639.2664898184779,
          1652.973533817763,
          528.4532789603624,
          326.3735903022393,
          389.2125754320983,
          318.7473833560084,
          651.1206409618218,
          549.4344725095195,
          451.3087307230641,
          356.83196627081367,
          329.5137733642885,
          2781.069934944092,
          401.41649377508406,
          319.22584156846193,
          456.4820364827122,
          314.09170735608564,
          330.5170036664129,
          415.7585437938096,
          568.8839029975768,
          383.734942695801,
          2018.1828436322476,
          346.78451503841734,
          331.08423765401267,
          455.77580876216626,
          340.01183784459585,
          1981.4763873074414,
          1586.4143208529608,
          391.4557553242516,
          364.9778239214313,
          305.0377381355851,
          317.6448308652018,
          305.73183305135296,
          428.8170488431109,
          614.3466249775281,
          565.997884684462,
          342.5909454471023,
          410.6267635004347,
          371.61346761715015,
          397.5627022318437,
          600.2623319632908,
          436.5708427188367,
          616.8786402324074,
          346.9106578356801,
          362.5750860987357,
          492.99295578904076,
          305.35594646868066,
          376.17166606437644,
          411.4417009176563,
          350.0249439287623,
          386.0049070806444,
          430.3402507681849,
          371.32455119967824,
          444.65697914785216,
          388.3622836229276,
          315.4232220906223,
          573.2689290866678,
          410.7444002706379,
          1114.6523384869054,
          495.0890398596482,
          431.9988332783363,
          327.65517917268784,
          575.3185620118393,
          532.9103105135955,
          364.5127145873377,
          457.06052020733375,
          362.2080655010917,
          592.6268209066094,
          398.56557302024606,
          516.8370054485554,
          363.0287135714385,
          354.2821311733143,
          546.463114836864,
          365.95934253497416,
          1084.5885058169933,
          409.9809969843426,
          610.1206155531653,
          464.1394832239559,
          344.58699965392447,
          347.19129725092654,
          443.68528269451167,
          390.7903416128644,
          634.9978010966931,
          309.61414853691196,
          430.3471914320764,
          616.1666053142606,
          313.9426728670305,
          367.7405636180083,
          352.2089983309294,
          585.6831047815574,
          326.42400028639616,
          359.9785773447417,
          483.09946253287444,
          554.0866486298211,
          345.50261246386685,
          663.10326785005,
          355.95616566202153,
          319.0151486194365,
          305.52999662136915,
          2272.448719531449,
          327.51827791000755,
          349.6418820232017,
          366.4916031252178,
          599.6596712440906,
          380.66747308544694,
          326.89226192563217,
          3401.1123570503705,
          321.07282004846735,
          490.874867937953,
          428.5896152969058,
          475.7941803356009,
          383.9220770270232,
          429.35278544174366,
          524.5246201938954,
          318.7947274398508,
          306.8683505307026,
          371.7031853551307,
          432.77273433077994,
          2716.0578014585053,
          2128.240142121569,
          1728.8924551318419,
          519.6676524605784,
          351.9454631324288,
          613.3850091476087,
          2618.9692803103917,
          638.3294636535348,
          3651.2106636015637,
          472.5838525727811,
          496.8790894099448,
          426.722361830502,
          338.86321195103216,
          336.0224910158159,
          404.57435395762155,
          378.8323010917637,
          589.7101858733388,
          310.6814936195548,
          401.3047479132474,
          801.9595694537073,
          398.9450217591486,
          379.4059610741075,
          383.29118515107865,
          325.8203644586785,
          431.79807943666344,
          2801.234598302848,
          503.2515526955006,
          536.2506317614885,
          438.70458433674725,
          326.09570375369407,
          1711.7702802879721,
          545.0573991729915,
          654.6414086771416,
          320.55558176045,
          633.3269195052743,
          633.6787634357056,
          323.9169324171954,
          361.21358874838927,
          1386.6301662523747,
          383.1832190066574,
          315.879803589319,
          396.4937902303663,
          321.77712841226924,
          329.8034495841379,
          630.0835588431055,
          344.59317202236383,
          386.993236462705,
          481.15266986806813,
          360.3931561256934,
          354.21696813110174,
          349.3224388758223,
          435.8760904498969,
          1622.617355490139,
          302.00462632175277,
          336.88666013169643,
          617.9230801063335,
          323.16085790698764,
          322.20100879689363,
          446.83953344900385,
          507.7141993692944,
          451.471241759403,
          359.52201544021074,
          340.81464384909634,
          417.51570781181147,
          438.85385184939,
          4298.276858021642,
          389.28257891931463,
          540.1386857628986,
          355.0379517912182,
          465.10026336043984,
          330.47536788007744,
          546.1997655750772,
          337.73357310025983,
          335.8129317382122,
          359.13553431354535,
          524.9545615080723,
          366.73127797077206,
          595.167107241181,
          1375.8148469159064,
          439.75093159607235,
          318.2854259518682,
          306.98734454195403,
          365.68974686095214,
          363.2877586251116,
          1453.6430603041358,
          605.3463972083293,
          456.3476506939825,
          361.11833226790117,
          494.68155640855525,
          385.929585891416,
          306.54968566706094,
          383.71076869950576,
          1115.7665930887997,
          433.1692004467162,
          300.94294455911,
          344.62632002620563,
          544.7714659997624,
          431.7706553701991,
          329.26439313086564,
          403.2571924534748,
          382.64140158539175,
          351.30922748396273,
          947.307290761805,
          617.500835251095,
          337.76655923043126,
          504.3107318544178,
          510.75025188491975,
          693.063089766759,
          302.4613939828508,
          543.6131725662054,
          4421.302100244755,
          359.6045138996814,
          340.60309425045364,
          968.9864374604178,
          386.96815968922186,
          435.47941186323794,
          392.1045879139738,
          402.40270332337366,
          547.1245461184354,
          411.20518633280415,
          301.9252314977153,
          410.18881339705797,
          482.00533598653607,
          453.4609935075824,
          1730.944534502963,
          516.7907408897689,
          1267.7459150685995,
          357.7931532494582,
          310.11760137505985,
          387.8562789078915,
          1095.5392789941918,
          343.0736571755212,
          1545.7063984633678,
          481.5593126602653,
          334.09020507078213,
          2227.9910951506754,
          384.36901744598725,
          363.90028744371364,
          332.77106998350064,
          314.40711123427053,
          577.5468390444636,
          2385.0202900955746,
          453.5490017170792,
          657.8417959425433,
          500.99768012108626,
          318.0560514766009,
          561.9934715398375,
          319.74252680752977,
          1147.0634734867856,
          309.4443079907102,
          408.5752941568419,
          447.88214472810506,
          583.7646919604183,
          324.96088138095115,
          309.17702859172556,
          308.3604134337646,
          595.0270021893984,
          2245.2460550457267,
          303.7302575425399,
          370.1055905770914,
          618.4331101623127,
          345.24350312362884,
          550.5505972991076,
          506.4407858853438,
          450.07184754826466,
          2036.7074997780871,
          409.73350202916623,
          410.9694993459566,
          511.78469174438055,
          2049.262184895224,
          345.51075049169094,
          756.9283591402726,
          318.7793363515573,
          963.3021418297783,
          398.97357170462755,
          364.90974151290084,
          606.9435881580822,
          478.8725061720883,
          335.64315857607073,
          302.4345246751242,
          644.0987350119573,
          402.42916062150357,
          892.8489476573051,
          1269.7156134904353,
          342.0520984265626,
          612.6835403671867,
          313.6657060228173
         ],
         "xaxis": "x",
         "yaxis": "y"
        }
       ],
       "layout": {
        "bargap": 0.01,
        "barmode": "relative",
        "legend": {
         "tracegroupgap": 0
        },
        "margin": {
         "t": 60
        },
        "template": {
         "data": {
          "bar": [
           {
            "error_x": {
             "color": "#2a3f5f"
            },
            "error_y": {
             "color": "#2a3f5f"
            },
            "marker": {
             "line": {
              "color": "#E5ECF6",
              "width": 0.5
             }
            },
            "type": "bar"
           }
          ],
          "barpolar": [
           {
            "marker": {
             "line": {
              "color": "#E5ECF6",
              "width": 0.5
             }
            },
            "type": "barpolar"
           }
          ],
          "carpet": [
           {
            "aaxis": {
             "endlinecolor": "#2a3f5f",
             "gridcolor": "white",
             "linecolor": "white",
             "minorgridcolor": "white",
             "startlinecolor": "#2a3f5f"
            },
            "baxis": {
             "endlinecolor": "#2a3f5f",
             "gridcolor": "white",
             "linecolor": "white",
             "minorgridcolor": "white",
             "startlinecolor": "#2a3f5f"
            },
            "type": "carpet"
           }
          ],
          "choropleth": [
           {
            "colorbar": {
             "outlinewidth": 0,
             "ticks": ""
            },
            "type": "choropleth"
           }
          ],
          "contour": [
           {
            "colorbar": {
             "outlinewidth": 0,
             "ticks": ""
            },
            "colorscale": [
             [
              0,
              "#0d0887"
             ],
             [
              0.1111111111111111,
              "#46039f"
             ],
             [
              0.2222222222222222,
              "#7201a8"
             ],
             [
              0.3333333333333333,
              "#9c179e"
             ],
             [
              0.4444444444444444,
              "#bd3786"
             ],
             [
              0.5555555555555556,
              "#d8576b"
             ],
             [
              0.6666666666666666,
              "#ed7953"
             ],
             [
              0.7777777777777778,
              "#fb9f3a"
             ],
             [
              0.8888888888888888,
              "#fdca26"
             ],
             [
              1,
              "#f0f921"
             ]
            ],
            "type": "contour"
           }
          ],
          "contourcarpet": [
           {
            "colorbar": {
             "outlinewidth": 0,
             "ticks": ""
            },
            "type": "contourcarpet"
           }
          ],
          "heatmap": [
           {
            "colorbar": {
             "outlinewidth": 0,
             "ticks": ""
            },
            "colorscale": [
             [
              0,
              "#0d0887"
             ],
             [
              0.1111111111111111,
              "#46039f"
             ],
             [
              0.2222222222222222,
              "#7201a8"
             ],
             [
              0.3333333333333333,
              "#9c179e"
             ],
             [
              0.4444444444444444,
              "#bd3786"
             ],
             [
              0.5555555555555556,
              "#d8576b"
             ],
             [
              0.6666666666666666,
              "#ed7953"
             ],
             [
              0.7777777777777778,
              "#fb9f3a"
             ],
             [
              0.8888888888888888,
              "#fdca26"
             ],
             [
              1,
              "#f0f921"
             ]
            ],
            "type": "heatmap"
           }
          ],
          "heatmapgl": [
           {
            "colorbar": {
             "outlinewidth": 0,
             "ticks": ""
            },
            "colorscale": [
             [
              0,
              "#0d0887"
             ],
             [
              0.1111111111111111,
              "#46039f"
             ],
             [
              0.2222222222222222,
              "#7201a8"
             ],
             [
              0.3333333333333333,
              "#9c179e"
             ],
             [
              0.4444444444444444,
              "#bd3786"
             ],
             [
              0.5555555555555556,
              "#d8576b"
             ],
             [
              0.6666666666666666,
              "#ed7953"
             ],
             [
              0.7777777777777778,
              "#fb9f3a"
             ],
             [
              0.8888888888888888,
              "#fdca26"
             ],
             [
              1,
              "#f0f921"
             ]
            ],
            "type": "heatmapgl"
           }
          ],
          "histogram": [
           {
            "marker": {
             "colorbar": {
              "outlinewidth": 0,
              "ticks": ""
             }
            },
            "type": "histogram"
           }
          ],
          "histogram2d": [
           {
            "colorbar": {
             "outlinewidth": 0,
             "ticks": ""
            },
            "colorscale": [
             [
              0,
              "#0d0887"
             ],
             [
              0.1111111111111111,
              "#46039f"
             ],
             [
              0.2222222222222222,
              "#7201a8"
             ],
             [
              0.3333333333333333,
              "#9c179e"
             ],
             [
              0.4444444444444444,
              "#bd3786"
             ],
             [
              0.5555555555555556,
              "#d8576b"
             ],
             [
              0.6666666666666666,
              "#ed7953"
             ],
             [
              0.7777777777777778,
              "#fb9f3a"
             ],
             [
              0.8888888888888888,
              "#fdca26"
             ],
             [
              1,
              "#f0f921"
             ]
            ],
            "type": "histogram2d"
           }
          ],
          "histogram2dcontour": [
           {
            "colorbar": {
             "outlinewidth": 0,
             "ticks": ""
            },
            "colorscale": [
             [
              0,
              "#0d0887"
             ],
             [
              0.1111111111111111,
              "#46039f"
             ],
             [
              0.2222222222222222,
              "#7201a8"
             ],
             [
              0.3333333333333333,
              "#9c179e"
             ],
             [
              0.4444444444444444,
              "#bd3786"
             ],
             [
              0.5555555555555556,
              "#d8576b"
             ],
             [
              0.6666666666666666,
              "#ed7953"
             ],
             [
              0.7777777777777778,
              "#fb9f3a"
             ],
             [
              0.8888888888888888,
              "#fdca26"
             ],
             [
              1,
              "#f0f921"
             ]
            ],
            "type": "histogram2dcontour"
           }
          ],
          "mesh3d": [
           {
            "colorbar": {
             "outlinewidth": 0,
             "ticks": ""
            },
            "type": "mesh3d"
           }
          ],
          "parcoords": [
           {
            "line": {
             "colorbar": {
              "outlinewidth": 0,
              "ticks": ""
             }
            },
            "type": "parcoords"
           }
          ],
          "pie": [
           {
            "automargin": true,
            "type": "pie"
           }
          ],
          "scatter": [
           {
            "marker": {
             "colorbar": {
              "outlinewidth": 0,
              "ticks": ""
             }
            },
            "type": "scatter"
           }
          ],
          "scatter3d": [
           {
            "line": {
             "colorbar": {
              "outlinewidth": 0,
              "ticks": ""
             }
            },
            "marker": {
             "colorbar": {
              "outlinewidth": 0,
              "ticks": ""
             }
            },
            "type": "scatter3d"
           }
          ],
          "scattercarpet": [
           {
            "marker": {
             "colorbar": {
              "outlinewidth": 0,
              "ticks": ""
             }
            },
            "type": "scattercarpet"
           }
          ],
          "scattergeo": [
           {
            "marker": {
             "colorbar": {
              "outlinewidth": 0,
              "ticks": ""
             }
            },
            "type": "scattergeo"
           }
          ],
          "scattergl": [
           {
            "marker": {
             "colorbar": {
              "outlinewidth": 0,
              "ticks": ""
             }
            },
            "type": "scattergl"
           }
          ],
          "scattermapbox": [
           {
            "marker": {
             "colorbar": {
              "outlinewidth": 0,
              "ticks": ""
             }
            },
            "type": "scattermapbox"
           }
          ],
          "scatterpolar": [
           {
            "marker": {
             "colorbar": {
              "outlinewidth": 0,
              "ticks": ""
             }
            },
            "type": "scatterpolar"
           }
          ],
          "scatterpolargl": [
           {
            "marker": {
             "colorbar": {
              "outlinewidth": 0,
              "ticks": ""
             }
            },
            "type": "scatterpolargl"
           }
          ],
          "scatterternary": [
           {
            "marker": {
             "colorbar": {
              "outlinewidth": 0,
              "ticks": ""
             }
            },
            "type": "scatterternary"
           }
          ],
          "surface": [
           {
            "colorbar": {
             "outlinewidth": 0,
             "ticks": ""
            },
            "colorscale": [
             [
              0,
              "#0d0887"
             ],
             [
              0.1111111111111111,
              "#46039f"
             ],
             [
              0.2222222222222222,
              "#7201a8"
             ],
             [
              0.3333333333333333,
              "#9c179e"
             ],
             [
              0.4444444444444444,
              "#bd3786"
             ],
             [
              0.5555555555555556,
              "#d8576b"
             ],
             [
              0.6666666666666666,
              "#ed7953"
             ],
             [
              0.7777777777777778,
              "#fb9f3a"
             ],
             [
              0.8888888888888888,
              "#fdca26"
             ],
             [
              1,
              "#f0f921"
             ]
            ],
            "type": "surface"
           }
          ],
          "table": [
           {
            "cells": {
             "fill": {
              "color": "#EBF0F8"
             },
             "line": {
              "color": "white"
             }
            },
            "header": {
             "fill": {
              "color": "#C8D4E3"
             },
             "line": {
              "color": "white"
             }
            },
            "type": "table"
           }
          ]
         },
         "layout": {
          "annotationdefaults": {
           "arrowcolor": "#2a3f5f",
           "arrowhead": 0,
           "arrowwidth": 1
          },
          "autotypenumbers": "strict",
          "coloraxis": {
           "colorbar": {
            "outlinewidth": 0,
            "ticks": ""
           }
          },
          "colorscale": {
           "diverging": [
            [
             0,
             "#8e0152"
            ],
            [
             0.1,
             "#c51b7d"
            ],
            [
             0.2,
             "#de77ae"
            ],
            [
             0.3,
             "#f1b6da"
            ],
            [
             0.4,
             "#fde0ef"
            ],
            [
             0.5,
             "#f7f7f7"
            ],
            [
             0.6,
             "#e6f5d0"
            ],
            [
             0.7,
             "#b8e186"
            ],
            [
             0.8,
             "#7fbc41"
            ],
            [
             0.9,
             "#4d9221"
            ],
            [
             1,
             "#276419"
            ]
           ],
           "sequential": [
            [
             0,
             "#0d0887"
            ],
            [
             0.1111111111111111,
             "#46039f"
            ],
            [
             0.2222222222222222,
             "#7201a8"
            ],
            [
             0.3333333333333333,
             "#9c179e"
            ],
            [
             0.4444444444444444,
             "#bd3786"
            ],
            [
             0.5555555555555556,
             "#d8576b"
            ],
            [
             0.6666666666666666,
             "#ed7953"
            ],
            [
             0.7777777777777778,
             "#fb9f3a"
            ],
            [
             0.8888888888888888,
             "#fdca26"
            ],
            [
             1,
             "#f0f921"
            ]
           ],
           "sequentialminus": [
            [
             0,
             "#0d0887"
            ],
            [
             0.1111111111111111,
             "#46039f"
            ],
            [
             0.2222222222222222,
             "#7201a8"
            ],
            [
             0.3333333333333333,
             "#9c179e"
            ],
            [
             0.4444444444444444,
             "#bd3786"
            ],
            [
             0.5555555555555556,
             "#d8576b"
            ],
            [
             0.6666666666666666,
             "#ed7953"
            ],
            [
             0.7777777777777778,
             "#fb9f3a"
            ],
            [
             0.8888888888888888,
             "#fdca26"
            ],
            [
             1,
             "#f0f921"
            ]
           ]
          },
          "colorway": [
           "#636efa",
           "#EF553B",
           "#00cc96",
           "#ab63fa",
           "#FFA15A",
           "#19d3f3",
           "#FF6692",
           "#B6E880",
           "#FF97FF",
           "#FECB52"
          ],
          "font": {
           "color": "#2a3f5f"
          },
          "geo": {
           "bgcolor": "white",
           "lakecolor": "white",
           "landcolor": "#E5ECF6",
           "showlakes": true,
           "showland": true,
           "subunitcolor": "white"
          },
          "hoverlabel": {
           "align": "left"
          },
          "hovermode": "closest",
          "mapbox": {
           "style": "light"
          },
          "paper_bgcolor": "white",
          "plot_bgcolor": "#E5ECF6",
          "polar": {
           "angularaxis": {
            "gridcolor": "white",
            "linecolor": "white",
            "ticks": ""
           },
           "bgcolor": "#E5ECF6",
           "radialaxis": {
            "gridcolor": "white",
            "linecolor": "white",
            "ticks": ""
           }
          },
          "scene": {
           "xaxis": {
            "backgroundcolor": "#E5ECF6",
            "gridcolor": "white",
            "gridwidth": 2,
            "linecolor": "white",
            "showbackground": true,
            "ticks": "",
            "zerolinecolor": "white"
           },
           "yaxis": {
            "backgroundcolor": "#E5ECF6",
            "gridcolor": "white",
            "gridwidth": 2,
            "linecolor": "white",
            "showbackground": true,
            "ticks": "",
            "zerolinecolor": "white"
           },
           "zaxis": {
            "backgroundcolor": "#E5ECF6",
            "gridcolor": "white",
            "gridwidth": 2,
            "linecolor": "white",
            "showbackground": true,
            "ticks": "",
            "zerolinecolor": "white"
           }
          },
          "shapedefaults": {
           "line": {
            "color": "#2a3f5f"
           }
          },
          "ternary": {
           "aaxis": {
            "gridcolor": "white",
            "linecolor": "white",
            "ticks": ""
           },
           "baxis": {
            "gridcolor": "white",
            "linecolor": "white",
            "ticks": ""
           },
           "bgcolor": "#E5ECF6",
           "caxis": {
            "gridcolor": "white",
            "linecolor": "white",
            "ticks": ""
           }
          },
          "title": {
           "x": 0.05
          },
          "xaxis": {
           "automargin": true,
           "gridcolor": "white",
           "linecolor": "white",
           "ticks": "",
           "title": {
            "standoff": 15
           },
           "zerolinecolor": "white",
           "zerolinewidth": 2
          },
          "yaxis": {
           "automargin": true,
           "gridcolor": "white",
           "linecolor": "white",
           "ticks": "",
           "title": {
            "standoff": 15
           },
           "zerolinecolor": "white",
           "zerolinewidth": 2
          }
         }
        },
        "title": {
         "text": "Error in address locations",
         "x": 0.5
        },
        "xaxis": {
         "anchor": "y",
         "domain": [
          0,
          1
         ],
         "title": {
          "text": "Distance between Hex centre & Address (meters)"
         }
        },
        "yaxis": {
         "anchor": "x",
         "domain": [
          0,
          1
         ],
         "title": {
          "text": "Percentage of hexes (Cumulative)"
         }
        }
       }
      }
     },
     "metadata": {},
     "output_type": "display_data"
    }
   ],
   "source": [
    "centre_coord = df_hex[['centre_lat', 'centre_lng']].to_records(index=False)\r\n",
    "\r\n",
    "address_error = [] # Empty list to store data\r\n",
    "error_threshold = 300 # Any distance (in meters) above this will be flagged\r\n",
    "\r\n",
    "for centre, addr in zip(centre_coord, addr_coord):\r\n",
    "    dist = distance(centre, addr).meters\r\n",
    "    if dist > error_threshold:\r\n",
    "        address_error.append(dist) # Use Geopy function\r\n",
    "        \r\n",
    "percent_below = ((len(centre_coord) - len(address_error))/len(centre_coord))*100\r\n",
    "print('{:.2f} percent of the errors are below {} meters'.format(percent_below, error_threshold))\r\n",
    "\r\n",
    "# Plot histogram\r\n",
    "address_err_fig = px.histogram(\r\n",
    "    x = address_error,\r\n",
    "    #// nbins = 200,\r\n",
    "    histnorm = 'percent',\r\n",
    "    #// cumulative = True,\r\n",
    "    template = 'plotly',\r\n",
    ")\r\n",
    "\r\n",
    "address_err_fig.update_layout(\r\n",
    "    title = \"Error in address locations\",\r\n",
    "    title_x = 0.5,\r\n",
    "    xaxis_title = 'Distance between Hex centre & Address (meters)',\r\n",
    "    yaxis_title = 'Percentage of hexes (Cumulative)',\r\n",
    "    bargap = 0.01,\r\n",
    ")"
   ]
  },
  {
   "cell_type": "markdown",
   "metadata": {},
   "source": [
    "We see that the reverse geocoding has mostly been accurate enough. Our hex radius is around 500m, so most of the addresses will be within the hex except for a few outliers. This isn't hugely important though, since the addresses will just be used as a reference, all other functions will use the coordinates.\r\n",
    "\r\n",
    "If we wanted to, we could try and improve upon these using another API, but for now we will not use our limited API quotas on this. Let's add this to the dataframe and persist to a file."
   ]
  },
  {
   "cell_type": "code",
   "execution_count": 7,
   "metadata": {},
   "outputs": [
    {
     "name": "stderr",
     "output_type": "stream",
     "text": [
      "<ipython-input-7-61095aabe0a2>:5: UserWarning:\n",
      "\n",
      "this is an initial implementation of Parquet/Feather file support and associated metadata.  This is tracking version 0.1.0 of the metadata specification at https://github.com/geopandas/geo-arrow-spec\n",
      "\n",
      "This metadata specification does not yet make stability promises.  We do not yet recommend using this in a production setting unless you are able to rewrite your Parquet/Feather files.\n",
      "\n",
      "To further ignore this warning, you can do: \n",
      "import warnings; warnings.filterwarnings('ignore', message='.*initial implementation of Parquet.*')\n",
      "\n"
     ]
    },
    {
     "data": {
      "text/html": "<div>\n<style scoped>\n    .dataframe tbody tr th:only-of-type {\n        vertical-align: middle;\n    }\n\n    .dataframe tbody tr th {\n        vertical-align: top;\n    }\n\n    .dataframe thead th {\n        text-align: right;\n    }\n</style>\n<table border=\"1\" class=\"dataframe\">\n  <thead>\n    <tr style=\"text-align: right;\">\n      <th></th>\n      <th>id</th>\n      <th>centre_lat</th>\n      <th>centre_lng</th>\n      <th>resolution</th>\n      <th>geometry</th>\n      <th>address</th>\n      <th>addr_lat</th>\n      <th>addr_lng</th>\n    </tr>\n  </thead>\n  <tbody>\n    <tr>\n      <th>0</th>\n      <td>886014432dfffff</td>\n      <td>12.964012</td>\n      <td>77.438640</td>\n      <td>8</td>\n      <td>POLYGON ((77.44280 12.96151, 77.44289 12.96649...</td>\n      <td>Kenchanapura, Bangalore South, Bangalore Urban...</td>\n      <td>12.963196</td>\n      <td>77.438620</td>\n    </tr>\n    <tr>\n      <th>1</th>\n      <td>88618936cbfffff</td>\n      <td>12.708381</td>\n      <td>77.729075</td>\n      <td>8</td>\n      <td>POLYGON ((77.73325 12.70586, 77.73333 12.71086...</td>\n      <td>Anekal, Bangalore Urban, Karnataka, 562106, India</td>\n      <td>12.710459</td>\n      <td>77.729590</td>\n    </tr>\n    <tr>\n      <th>2</th>\n      <td>8861892d67fffff</td>\n      <td>13.112819</td>\n      <td>77.710739</td>\n      <td>8</td>\n      <td>POLYGON ((77.71492 13.11031, 77.71500 13.11530...</td>\n      <td>Marasandura, Bangalore North, Bangalore Urban,...</td>\n      <td>13.099492</td>\n      <td>77.714854</td>\n    </tr>\n    <tr>\n      <th>3</th>\n      <td>886014c993fffff</td>\n      <td>12.776673</td>\n      <td>77.540713</td>\n      <td>8</td>\n      <td>POLYGON ((77.54488 12.77416, 77.54496 12.77915...</td>\n      <td>Tattaguppe, Bangalore South, Bangalore Urban, ...</td>\n      <td>12.777207</td>\n      <td>77.541815</td>\n    </tr>\n    <tr>\n      <th>4</th>\n      <td>8860145837fffff</td>\n      <td>13.016192</td>\n      <td>77.494183</td>\n      <td>8</td>\n      <td>POLYGON ((77.49835 13.01369, 77.49843 13.01867...</td>\n      <td>Dodda Bidarakallu, Rajarajeshwari Nagar Zone, ...</td>\n      <td>13.016104</td>\n      <td>77.493968</td>\n    </tr>\n  </tbody>\n</table>\n</div>",
      "text/plain": "                id  centre_lat  centre_lng  resolution  \\\n0  886014432dfffff   12.964012   77.438640           8   \n1  88618936cbfffff   12.708381   77.729075           8   \n2  8861892d67fffff   13.112819   77.710739           8   \n3  886014c993fffff   12.776673   77.540713           8   \n4  8860145837fffff   13.016192   77.494183           8   \n\n                                            geometry  \\\n0  POLYGON ((77.44280 12.96151, 77.44289 12.96649...   \n1  POLYGON ((77.73325 12.70586, 77.73333 12.71086...   \n2  POLYGON ((77.71492 13.11031, 77.71500 13.11530...   \n3  POLYGON ((77.54488 12.77416, 77.54496 12.77915...   \n4  POLYGON ((77.49835 13.01369, 77.49843 13.01867...   \n\n                                             address   addr_lat   addr_lng  \n0  Kenchanapura, Bangalore South, Bangalore Urban...  12.963196  77.438620  \n1  Anekal, Bangalore Urban, Karnataka, 562106, India  12.710459  77.729590  \n2  Marasandura, Bangalore North, Bangalore Urban,...  13.099492  77.714854  \n3  Tattaguppe, Bangalore South, Bangalore Urban, ...  12.777207  77.541815  \n4  Dodda Bidarakallu, Rajarajeshwari Nagar Zone, ...  13.016104  77.493968  "
     },
     "execution_count": 7,
     "metadata": {},
     "output_type": "execute_result"
    }
   ],
   "source": [
    "# Assign to new columns\r\n",
    "df_hex['address'] = address\r\n",
    "df_hex['addr_lat'], df_hex['addr_lng'] = zip(*addr_coord)\r\n",
    "\r\n",
    "df_hex.to_feather('../data/bangalore_hex_data.feather') # Save file\r\n",
    "\r\n",
    "df_hex.head() # Display final table"
   ]
  },
  {
   "cell_type": "code",
   "execution_count": null,
   "metadata": {},
   "outputs": [],
   "source": []
  }
 ],
 "metadata": {
  "kernelspec": {
   "display_name": "Python 3.8.8 64-bit ('ngj': conda)",
   "name": "python388jvsc74a57bd0bc71f796cde151533783917d293e868237683acb8e46c8549a0341d369f12fc2"
  },
  "language_info": {
   "codemirror_mode": {
    "name": "ipython",
    "version": 3
   },
   "file_extension": ".py",
   "mimetype": "text/x-python",
   "name": "python",
   "nbconvert_exporter": "python",
   "pygments_lexer": "ipython3",
   "version": "3.8.8"
  },
  "orig_nbformat": 2
 },
 "nbformat": 4,
 "nbformat_minor": 2
}