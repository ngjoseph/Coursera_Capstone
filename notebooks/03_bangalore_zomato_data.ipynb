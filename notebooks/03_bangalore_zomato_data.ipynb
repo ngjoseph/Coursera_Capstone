{
 "cells": [
  {
   "cell_type": "markdown",
   "metadata": {},
   "source": [
    "# Obtaining Restaurant Data\r\n",
    "\r\n",
    "For restaurant data, we will use data scraped from the [Zomato website](https://www.zomato.com/) - an Indian restaurant aggregator and delivery service that has an extensive database of restaurants in India.\r\n",
    "\r\n",
    "At the time of the project, I was unable to obtain an API key from Zomato, so I have instead used the dataset uploaded by Himanshu Poddar to Kaggle [(link)](https://www.kaggle.com/himanshupoddar/zomato-bangalore-restaurants)\r\n",
    "\r\n",
    "Since this database lacks latitude and longitude information, we will have to reverse geocode it. Also, since the data is a couple of years old (uploaded March 2019), it will not be entirely accurate to the current scenario. But, to get a general overview, it should be more than enough."
   ]
  },
  {
   "cell_type": "code",
   "execution_count": 16,
   "metadata": {},
   "outputs": [],
   "source": [
    "import pandas as pd\r\n",
    "import numpy as np\r\n",
    "\r\n",
    "from ratelimiter import RateLimiter\r\n",
    "from diskcache import Cache\r\n",
    "from tqdm.notebook import tqdm\r\n",
    "\r\n",
    "from geopy.distance import distance\r\n",
    "from geopy import Nominatim\r\n",
    "\r\n",
    "import plotly.express as px"
   ]
  },
  {
   "cell_type": "markdown",
   "metadata": {},
   "source": [
    "## Loading Data\r\n",
    "\r\n",
    "We will load only the required columns from the dataset.\r\n",
    "\r\n",
    "**List of columns in the dataset**\r\n",
    "\r\n",
    "| Index | Column                      | Description                                                                                                                |\r\n",
    "|-------|-----------------------------|----------------------------------------------------------------------------------------------------------------------------|\r\n",
    "| 0     | url                         | contains the url of the restaurant in the zomato website                                                                   |\r\n",
    "| 1     | address                     | contains the address of the restaurant in Bengaluru                                                                        |\r\n",
    "| 2     | name                        | contains the name of the restaurant                                                                                        |\r\n",
    "| 3     | online_order                | whether online ordering is available in the restaurant or not                                                              |\r\n",
    "| 4     | book_table                  | table book option available or not                                                                                         |\r\n",
    "| 5     | rate                        | contains the overall rating of the restaurant out of 5                                                                     |\r\n",
    "| 6     | votes                       | contains total number of rating for the restaurant as of the above mentioned date                                          |\r\n",
    "| 7     | phone                       | contains the phone number of the restaurant                                                                                |\r\n",
    "| 8     | location                    | contains the neighborhood in which the restaurant is located                                                               |\r\n",
    "| 9     | rest_type                   | restaurant type                                                                                                            |\r\n",
    "| 10    | dish_liked                  | dishes people liked in the restaurant                                                                                      |\r\n",
    "| 11    | cuisines                    | food styles, separated by comma                                                                                            |\r\n",
    "| 12    | approx_cost(for two people) | contains the approximate cost for meal for two people                                                                      |\r\n",
    "| 13    | reviews_list                | list of tuples containing reviews for the restaurant, each tuple consists of two values, rating and review by the customer |\r\n",
    "| 14    | menu_item                   | contains list of menus available in the restaurant                                                                         |\r\n",
    "| 15    | listed_in(type)             | type of meal                                                                                                               |\r\n",
    "| 16    | listed_in(city)             | contains the neighborhood in which the restaurant is listed                                                                |"
   ]
  },
  {
   "cell_type": "code",
   "execution_count": 2,
   "metadata": {},
   "outputs": [
    {
     "name": "stdout",
     "output_type": "stream",
     "text": [
      "(51717, 8)\n"
     ]
    },
    {
     "data": {
      "text/html": "<div>\n<style scoped>\n    .dataframe tbody tr th:only-of-type {\n        vertical-align: middle;\n    }\n\n    .dataframe tbody tr th {\n        vertical-align: top;\n    }\n\n    .dataframe thead th {\n        text-align: right;\n    }\n</style>\n<table border=\"1\" class=\"dataframe\">\n  <thead>\n    <tr style=\"text-align: right;\">\n      <th></th>\n      <th>address</th>\n      <th>name</th>\n      <th>rate</th>\n      <th>votes</th>\n      <th>location</th>\n      <th>rest_type</th>\n      <th>cuisines</th>\n      <th>cost</th>\n    </tr>\n  </thead>\n  <tbody>\n    <tr>\n      <th>0</th>\n      <td>942, 21st Main Road, 2nd Stage, Banashankari, ...</td>\n      <td>Jalsa</td>\n      <td>4.1/5</td>\n      <td>775</td>\n      <td>Banashankari</td>\n      <td>Casual Dining</td>\n      <td>North Indian, Mughlai, Chinese</td>\n      <td>800</td>\n    </tr>\n    <tr>\n      <th>1</th>\n      <td>2nd Floor, 80 Feet Road, Near Big Bazaar, 6th ...</td>\n      <td>Spice Elephant</td>\n      <td>4.1/5</td>\n      <td>787</td>\n      <td>Banashankari</td>\n      <td>Casual Dining</td>\n      <td>Chinese, North Indian, Thai</td>\n      <td>800</td>\n    </tr>\n    <tr>\n      <th>2</th>\n      <td>1112, Next to KIMS Medical College, 17th Cross...</td>\n      <td>San Churro Cafe</td>\n      <td>3.8/5</td>\n      <td>918</td>\n      <td>Banashankari</td>\n      <td>Cafe, Casual Dining</td>\n      <td>Cafe, Mexican, Italian</td>\n      <td>800</td>\n    </tr>\n    <tr>\n      <th>3</th>\n      <td>1st Floor, Annakuteera, 3rd Stage, Banashankar...</td>\n      <td>Addhuri Udupi Bhojana</td>\n      <td>3.7/5</td>\n      <td>88</td>\n      <td>Banashankari</td>\n      <td>Quick Bites</td>\n      <td>South Indian, North Indian</td>\n      <td>300</td>\n    </tr>\n    <tr>\n      <th>4</th>\n      <td>10, 3rd Floor, Lakshmi Associates, Gandhi Baza...</td>\n      <td>Grand Village</td>\n      <td>3.8/5</td>\n      <td>166</td>\n      <td>Basavanagudi</td>\n      <td>Casual Dining</td>\n      <td>North Indian, Rajasthani</td>\n      <td>600</td>\n    </tr>\n  </tbody>\n</table>\n</div>",
      "text/plain": "                                             address                   name  \\\n0  942, 21st Main Road, 2nd Stage, Banashankari, ...                  Jalsa   \n1  2nd Floor, 80 Feet Road, Near Big Bazaar, 6th ...         Spice Elephant   \n2  1112, Next to KIMS Medical College, 17th Cross...        San Churro Cafe   \n3  1st Floor, Annakuteera, 3rd Stage, Banashankar...  Addhuri Udupi Bhojana   \n4  10, 3rd Floor, Lakshmi Associates, Gandhi Baza...          Grand Village   \n\n    rate  votes      location            rest_type  \\\n0  4.1/5    775  Banashankari        Casual Dining   \n1  4.1/5    787  Banashankari        Casual Dining   \n2  3.8/5    918  Banashankari  Cafe, Casual Dining   \n3  3.7/5     88  Banashankari          Quick Bites   \n4  3.8/5    166  Basavanagudi        Casual Dining   \n\n                         cuisines cost  \n0  North Indian, Mughlai, Chinese  800  \n1     Chinese, North Indian, Thai  800  \n2          Cafe, Mexican, Italian  800  \n3      South Indian, North Indian  300  \n4        North Indian, Rajasthani  600  "
     },
     "execution_count": 2,
     "metadata": {},
     "output_type": "execute_result"
    }
   ],
   "source": [
    "# Load only the required columns from the downloaded zip file\r\n",
    "\r\n",
    "df_zomato = pd.read_csv(\r\n",
    "    '../data/zomato_data.zip',\r\n",
    "    usecols = [\r\n",
    "        'name',\r\n",
    "        'address',\r\n",
    "        'location',\r\n",
    "        'rest_type',\r\n",
    "        'cuisines',\r\n",
    "        'approx_cost(for two people)',\r\n",
    "        'rate',\r\n",
    "        'votes'\r\n",
    "    ]\r\n",
    ").rename(columns = {'approx_cost(for two people)': 'cost'})\r\n",
    "\r\n",
    "print(df_zomato.shape)\r\n",
    "df_zomato.head()"
   ]
  },
  {
   "cell_type": "code",
   "execution_count": 3,
   "metadata": {},
   "outputs": [
    {
     "data": {
      "text/html": "<div>\n<style scoped>\n    .dataframe tbody tr th:only-of-type {\n        vertical-align: middle;\n    }\n\n    .dataframe tbody tr th {\n        vertical-align: top;\n    }\n\n    .dataframe thead th {\n        text-align: right;\n    }\n</style>\n<table border=\"1\" class=\"dataframe\">\n  <thead>\n    <tr style=\"text-align: right;\">\n      <th></th>\n      <th>address</th>\n      <th>name</th>\n      <th>rate</th>\n      <th>votes</th>\n      <th>location</th>\n      <th>rest_type</th>\n      <th>cuisines</th>\n      <th>cost</th>\n    </tr>\n  </thead>\n  <tbody>\n    <tr>\n      <th>count</th>\n      <td>51717</td>\n      <td>51717</td>\n      <td>43942</td>\n      <td>51717.000000</td>\n      <td>51696</td>\n      <td>51490</td>\n      <td>51672</td>\n      <td>51371</td>\n    </tr>\n    <tr>\n      <th>unique</th>\n      <td>11495</td>\n      <td>8792</td>\n      <td>64</td>\n      <td>NaN</td>\n      <td>93</td>\n      <td>93</td>\n      <td>2723</td>\n      <td>70</td>\n    </tr>\n    <tr>\n      <th>top</th>\n      <td>Delivery Only</td>\n      <td>Cafe Coffee Day</td>\n      <td>NEW</td>\n      <td>NaN</td>\n      <td>BTM</td>\n      <td>Quick Bites</td>\n      <td>North Indian</td>\n      <td>300</td>\n    </tr>\n    <tr>\n      <th>freq</th>\n      <td>128</td>\n      <td>96</td>\n      <td>2208</td>\n      <td>NaN</td>\n      <td>5124</td>\n      <td>19132</td>\n      <td>2913</td>\n      <td>7576</td>\n    </tr>\n    <tr>\n      <th>mean</th>\n      <td>NaN</td>\n      <td>NaN</td>\n      <td>NaN</td>\n      <td>283.697527</td>\n      <td>NaN</td>\n      <td>NaN</td>\n      <td>NaN</td>\n      <td>NaN</td>\n    </tr>\n    <tr>\n      <th>std</th>\n      <td>NaN</td>\n      <td>NaN</td>\n      <td>NaN</td>\n      <td>803.838853</td>\n      <td>NaN</td>\n      <td>NaN</td>\n      <td>NaN</td>\n      <td>NaN</td>\n    </tr>\n    <tr>\n      <th>min</th>\n      <td>NaN</td>\n      <td>NaN</td>\n      <td>NaN</td>\n      <td>0.000000</td>\n      <td>NaN</td>\n      <td>NaN</td>\n      <td>NaN</td>\n      <td>NaN</td>\n    </tr>\n    <tr>\n      <th>25%</th>\n      <td>NaN</td>\n      <td>NaN</td>\n      <td>NaN</td>\n      <td>7.000000</td>\n      <td>NaN</td>\n      <td>NaN</td>\n      <td>NaN</td>\n      <td>NaN</td>\n    </tr>\n    <tr>\n      <th>50%</th>\n      <td>NaN</td>\n      <td>NaN</td>\n      <td>NaN</td>\n      <td>41.000000</td>\n      <td>NaN</td>\n      <td>NaN</td>\n      <td>NaN</td>\n      <td>NaN</td>\n    </tr>\n    <tr>\n      <th>75%</th>\n      <td>NaN</td>\n      <td>NaN</td>\n      <td>NaN</td>\n      <td>198.000000</td>\n      <td>NaN</td>\n      <td>NaN</td>\n      <td>NaN</td>\n      <td>NaN</td>\n    </tr>\n    <tr>\n      <th>max</th>\n      <td>NaN</td>\n      <td>NaN</td>\n      <td>NaN</td>\n      <td>16832.000000</td>\n      <td>NaN</td>\n      <td>NaN</td>\n      <td>NaN</td>\n      <td>NaN</td>\n    </tr>\n  </tbody>\n</table>\n</div>",
      "text/plain": "              address             name   rate         votes location  \\\ncount           51717            51717  43942  51717.000000    51696   \nunique          11495             8792     64           NaN       93   \ntop     Delivery Only  Cafe Coffee Day    NEW           NaN      BTM   \nfreq              128               96   2208           NaN     5124   \nmean              NaN              NaN    NaN    283.697527      NaN   \nstd               NaN              NaN    NaN    803.838853      NaN   \nmin               NaN              NaN    NaN      0.000000      NaN   \n25%               NaN              NaN    NaN      7.000000      NaN   \n50%               NaN              NaN    NaN     41.000000      NaN   \n75%               NaN              NaN    NaN    198.000000      NaN   \nmax               NaN              NaN    NaN  16832.000000      NaN   \n\n          rest_type      cuisines   cost  \ncount         51490         51672  51371  \nunique           93          2723     70  \ntop     Quick Bites  North Indian    300  \nfreq          19132          2913   7576  \nmean            NaN           NaN    NaN  \nstd             NaN           NaN    NaN  \nmin             NaN           NaN    NaN  \n25%             NaN           NaN    NaN  \n50%             NaN           NaN    NaN  \n75%             NaN           NaN    NaN  \nmax             NaN           NaN    NaN  "
     },
     "execution_count": 3,
     "metadata": {},
     "output_type": "execute_result"
    }
   ],
   "source": [
    "# Display summary statistics for all columns\r\n",
    "df_zomato.describe(include = 'all')"
   ]
  },
  {
   "cell_type": "markdown",
   "metadata": {},
   "source": [
    "## Data Cleaning\r\n",
    "\r\n",
    "Lets go through the columns one by one, correcting formats and removing unecessary rows.\r\n",
    "\r\n",
    "We can see from the descriptive statistics above that all rows have atleast the name and the address. Some have not been assigned restaurant types, cuisines and cost values.\r\n",
    "\r\n",
    "We will be using these attributes in our exploration, and since only a very small fraction of our datapoints are missing these values, we can drop them from our set."
   ]
  },
  {
   "cell_type": "code",
   "execution_count": 4,
   "metadata": {},
   "outputs": [],
   "source": [
    "df_zomato.dropna(axis = 0, how = 'any', subset = ['rest_type', 'cuisines', 'cost'], inplace = True)"
   ]
  },
  {
   "cell_type": "code",
   "execution_count": 5,
   "metadata": {},
   "outputs": [
    {
     "data": {
      "text/plain": "Delivery Only                                                                                                                                                                           127\n14th Main, 4th Sector, HSR, Bangalore                                                                                                                                                    71\nThe Ritz-Carlton, 99, Residency Road, Bangalore                                                                                                                                          61\nCitrus Hotels, 34, Cunningham Road, Bangalore                                                                                                                                            53\nConrad Bengaluru, Kensington Road, Ulsoor, Bangalore                                                                                                                                     49\n                                                                                                                                                                                       ... \n201,1DC, RMR Sunshine, Kasturi Nagar, Banaswadi, Bangalore                                                                                                                                1\nBrigade Metropolis, Mahadevapura Garudacharpalya, Whitefield, Bangalore                                                                                                                   1\nCessna Business Park, Sarjapur ÃÂÃÂÃÂÃÂÃÂÃÂÃÂÃÂÃÂÃÂÃÂÃÂÃÂÃÂÃÂÃÂ Marathahalli Outer Ring Road, Kadubeesanahalli, Bellandur Post, Bengaluru, Karnataka      1\n348, 6th Block, Rajajinagar, Bangalore                                                                                                                                                    1\n45, 1st Main, 3rd Cross, MSR Nagar, New BEL Road, Bangalore                                                                                                                               1\nName: address, Length: 11394, dtype: int64"
     },
     "execution_count": 5,
     "metadata": {},
     "output_type": "execute_result"
    }
   ],
   "source": [
    "df_zomato['address'].value_counts()"
   ]
  },
  {
   "cell_type": "code",
   "execution_count": 6,
   "metadata": {},
   "outputs": [
    {
     "data": {
      "text/plain": "(51021, 8)"
     },
     "execution_count": 6,
     "metadata": {},
     "output_type": "execute_result"
    }
   ],
   "source": [
    "# Drop Delivery Only locations - we are looking at dine-in restaurants\r\n",
    "df_zomato = df_zomato[df_zomato['address'] != 'Delivery Only']\r\n",
    "df_zomato.shape"
   ]
  },
  {
   "cell_type": "code",
   "execution_count": 7,
   "metadata": {},
   "outputs": [
    {
     "data": {
      "text/plain": "array(['4.1/5', '3.8/5', '3.7/5', '3.6/5', '4.6/5', '4.0/5', '4.2/5',\n       '3.9/5', '3.1/5', '3.0/5', '3.2/5', '3.3/5', '2.8/5', '4.4/5',\n       '4.3/5', 'NEW', '2.9/5', '3.5/5', nan, '2.6/5', '3.8 /5', '3.4/5',\n       '4.5/5', '2.5/5', '2.7/5', '4.7/5', '2.4/5', '2.2/5', '2.3/5',\n       '3.4 /5', '-', '3.6 /5', '4.8/5', '3.9 /5', '4.2 /5', '4.0 /5',\n       '4.1 /5', '3.7 /5', '3.1 /5', '2.9 /5', '3.3 /5', '2.8 /5',\n       '3.5 /5', '2.7 /5', '2.5 /5', '3.2 /5', '2.6 /5', '4.5 /5',\n       '4.3 /5', '4.4 /5', '4.9/5', '2.1/5', '2.0/5', '1.8/5', '4.6 /5',\n       '4.9 /5', '3.0 /5', '4.8 /5', '2.3 /5', '4.7 /5', '2.4 /5',\n       '2.1 /5', '2.2 /5', '2.0 /5', '1.8 /5'], dtype=object)"
     },
     "execution_count": 7,
     "metadata": {},
     "output_type": "execute_result"
    }
   ],
   "source": [
    "df_zomato['rate'].unique()"
   ]
  },
  {
   "cell_type": "code",
   "execution_count": 8,
   "metadata": {},
   "outputs": [
    {
     "data": {
      "text/plain": "array([4.1, 3.8, 3.7, 3.6, 4.6, 4. , 4.2, 3.9, 3.1, 3. , 3.2, 3.3, 2.8,\n       4.4, 4.3, nan, 2.9, 3.5, 2.6, 3.4, 4.5, 2.5, 2.7, 4.7, 2.4, 2.2,\n       2.3, 4.8, 4.9, 2.1, 2. , 1.8])"
     },
     "execution_count": 8,
     "metadata": {},
     "output_type": "execute_result"
    }
   ],
   "source": [
    "# Replace 'NEW' in rate with NULL, and remove /5 from ratings\r\n",
    "df_zomato['rate'] = df_zomato['rate'].str.replace('NEW', '', case = False)\\\r\n",
    "    .str.replace('/5', '')\\\r\n",
    "    .str.replace('-','')\\\r\n",
    "    .str.strip()\\\r\n",
    "    .replace('',np.nan)\\\r\n",
    "    .astype(float)\r\n",
    "df_zomato['rate'].unique()"
   ]
  },
  {
   "cell_type": "code",
   "execution_count": 9,
   "metadata": {},
   "outputs": [
    {
     "data": {
      "text/plain": "array(['800', '300', '600', '700', '550', '500', '450', '650', '400',\n       '900', '200', '750', '150', '850', '100', '1,200', '350', '250',\n       '950', '1,000', '1,500', '1,300', '199', '80', '1,100', '160',\n       '1,600', '230', '130', '50', '190', '1,700', '1,400', '180',\n       '1,350', '2,200', '2,000', '1,800', '1,900', '330', '2,500',\n       '2,100', '3,000', '2,800', '3,400', '40', '1,250', '3,500',\n       '4,000', '2,400', '2,600', '120', '1,450', '469', '70', '3,200',\n       '60', '560', '240', '360', '6,000', '1,050', '2,300', '4,100',\n       '5,000', '3,700', '1,650', '2,700', '4,500', '140'], dtype=object)"
     },
     "execution_count": 9,
     "metadata": {},
     "output_type": "execute_result"
    }
   ],
   "source": [
    "df_zomato['cost'].unique() # Check why cost is being interpreted as string"
   ]
  },
  {
   "cell_type": "code",
   "execution_count": 10,
   "metadata": {},
   "outputs": [],
   "source": [
    "# Remove commas and covert to integers\r\n",
    "df_zomato['cost'] = df_zomato['cost'].str.replace(',','').astype(int)"
   ]
  },
  {
   "cell_type": "markdown",
   "metadata": {},
   "source": [
    "Let's just view the data one more time to ensure our data is clean."
   ]
  },
  {
   "cell_type": "code",
   "execution_count": 11,
   "metadata": {},
   "outputs": [
    {
     "data": {
      "text/plain": "address       object\nname          object\nrate         float64\nvotes          int64\nlocation      object\nrest_type     object\ncuisines      object\ncost           int32\ndtype: object"
     },
     "execution_count": 11,
     "metadata": {},
     "output_type": "execute_result"
    }
   ],
   "source": [
    "df_zomato.dtypes # Check datatypes are correct"
   ]
  },
  {
   "cell_type": "code",
   "execution_count": 12,
   "metadata": {},
   "outputs": [
    {
     "data": {
      "text/html": "<div>\n<style scoped>\n    .dataframe tbody tr th:only-of-type {\n        vertical-align: middle;\n    }\n\n    .dataframe tbody tr th {\n        vertical-align: top;\n    }\n\n    .dataframe thead th {\n        text-align: right;\n    }\n</style>\n<table border=\"1\" class=\"dataframe\">\n  <thead>\n    <tr style=\"text-align: right;\">\n      <th></th>\n      <th>address</th>\n      <th>name</th>\n      <th>rate</th>\n      <th>votes</th>\n      <th>location</th>\n      <th>rest_type</th>\n      <th>cuisines</th>\n      <th>cost</th>\n    </tr>\n  </thead>\n  <tbody>\n    <tr>\n      <th>count</th>\n      <td>51021</td>\n      <td>51021</td>\n      <td>41177.000000</td>\n      <td>51021.000000</td>\n      <td>51021</td>\n      <td>51021</td>\n      <td>51021</td>\n      <td>51021.000000</td>\n    </tr>\n    <tr>\n      <th>unique</th>\n      <td>11393</td>\n      <td>8698</td>\n      <td>NaN</td>\n      <td>NaN</td>\n      <td>92</td>\n      <td>93</td>\n      <td>2698</td>\n      <td>NaN</td>\n    </tr>\n    <tr>\n      <th>top</th>\n      <td>14th Main, 4th Sector, HSR, Bangalore</td>\n      <td>Cafe Coffee Day</td>\n      <td>NaN</td>\n      <td>NaN</td>\n      <td>BTM</td>\n      <td>Quick Bites</td>\n      <td>North Indian</td>\n      <td>NaN</td>\n    </tr>\n    <tr>\n      <th>freq</th>\n      <td>71</td>\n      <td>96</td>\n      <td>NaN</td>\n      <td>NaN</td>\n      <td>5071</td>\n      <td>19044</td>\n      <td>2851</td>\n      <td>NaN</td>\n    </tr>\n    <tr>\n      <th>mean</th>\n      <td>NaN</td>\n      <td>NaN</td>\n      <td>3.702397</td>\n      <td>285.479606</td>\n      <td>NaN</td>\n      <td>NaN</td>\n      <td>NaN</td>\n      <td>556.428235</td>\n    </tr>\n    <tr>\n      <th>std</th>\n      <td>NaN</td>\n      <td>NaN</td>\n      <td>0.440094</td>\n      <td>807.392688</td>\n      <td>NaN</td>\n      <td>NaN</td>\n      <td>NaN</td>\n      <td>439.993520</td>\n    </tr>\n    <tr>\n      <th>min</th>\n      <td>NaN</td>\n      <td>NaN</td>\n      <td>1.800000</td>\n      <td>0.000000</td>\n      <td>NaN</td>\n      <td>NaN</td>\n      <td>NaN</td>\n      <td>40.000000</td>\n    </tr>\n    <tr>\n      <th>25%</th>\n      <td>NaN</td>\n      <td>NaN</td>\n      <td>3.400000</td>\n      <td>7.000000</td>\n      <td>NaN</td>\n      <td>NaN</td>\n      <td>NaN</td>\n      <td>300.000000</td>\n    </tr>\n    <tr>\n      <th>50%</th>\n      <td>NaN</td>\n      <td>NaN</td>\n      <td>3.700000</td>\n      <td>41.000000</td>\n      <td>NaN</td>\n      <td>NaN</td>\n      <td>NaN</td>\n      <td>400.000000</td>\n    </tr>\n    <tr>\n      <th>75%</th>\n      <td>NaN</td>\n      <td>NaN</td>\n      <td>4.000000</td>\n      <td>200.000000</td>\n      <td>NaN</td>\n      <td>NaN</td>\n      <td>NaN</td>\n      <td>700.000000</td>\n    </tr>\n    <tr>\n      <th>max</th>\n      <td>NaN</td>\n      <td>NaN</td>\n      <td>4.900000</td>\n      <td>16832.000000</td>\n      <td>NaN</td>\n      <td>NaN</td>\n      <td>NaN</td>\n      <td>6000.000000</td>\n    </tr>\n  </tbody>\n</table>\n</div>",
      "text/plain": "                                      address             name          rate  \\\ncount                                   51021            51021  41177.000000   \nunique                                  11393             8698           NaN   \ntop     14th Main, 4th Sector, HSR, Bangalore  Cafe Coffee Day           NaN   \nfreq                                       71               96           NaN   \nmean                                      NaN              NaN      3.702397   \nstd                                       NaN              NaN      0.440094   \nmin                                       NaN              NaN      1.800000   \n25%                                       NaN              NaN      3.400000   \n50%                                       NaN              NaN      3.700000   \n75%                                       NaN              NaN      4.000000   \nmax                                       NaN              NaN      4.900000   \n\n               votes location    rest_type      cuisines          cost  \ncount   51021.000000    51021        51021         51021  51021.000000  \nunique           NaN       92           93          2698           NaN  \ntop              NaN      BTM  Quick Bites  North Indian           NaN  \nfreq             NaN     5071        19044          2851           NaN  \nmean      285.479606      NaN          NaN           NaN    556.428235  \nstd       807.392688      NaN          NaN           NaN    439.993520  \nmin         0.000000      NaN          NaN           NaN     40.000000  \n25%         7.000000      NaN          NaN           NaN    300.000000  \n50%        41.000000      NaN          NaN           NaN    400.000000  \n75%       200.000000      NaN          NaN           NaN    700.000000  \nmax     16832.000000      NaN          NaN           NaN   6000.000000  "
     },
     "execution_count": 12,
     "metadata": {},
     "output_type": "execute_result"
    }
   ],
   "source": [
    "df_zomato.describe(include = 'all')"
   ]
  },
  {
   "cell_type": "markdown",
   "metadata": {},
   "source": [
    "Everything seems to be in order, so save the table to disk."
   ]
  },
  {
   "cell_type": "code",
   "execution_count": 13,
   "metadata": {},
   "outputs": [],
   "source": [
    "df_zomato.reset_index(drop = True, inplace = True)\r\n",
    "df_zomato.to_feather('../data/zomato_bangalore.feather')"
   ]
  },
  {
   "cell_type": "markdown",
   "metadata": {},
   "source": [
    "## Adding coordinates\r\n",
    "\r\n",
    "Our dataset does not contain the latitutde and longitude which we require for our analysis, so we will need to use reverse geocoding to address this problem. We have around 50k datapoints, so we will need to use an API with a higher free limit."
   ]
  },
  {
   "cell_type": "code",
   "execution_count": 3,
   "metadata": {},
   "outputs": [
    {
     "data": {
      "text/html": "<div>\n<style scoped>\n    .dataframe tbody tr th:only-of-type {\n        vertical-align: middle;\n    }\n\n    .dataframe tbody tr th {\n        vertical-align: top;\n    }\n\n    .dataframe thead th {\n        text-align: right;\n    }\n</style>\n<table border=\"1\" class=\"dataframe\">\n  <thead>\n    <tr style=\"text-align: right;\">\n      <th></th>\n      <th>address</th>\n      <th>name</th>\n      <th>rate</th>\n      <th>votes</th>\n      <th>location</th>\n      <th>rest_type</th>\n      <th>cuisines</th>\n      <th>cost</th>\n    </tr>\n  </thead>\n  <tbody>\n    <tr>\n      <th>0</th>\n      <td>942, 21st Main Road, 2nd Stage, Banashankari, ...</td>\n      <td>Jalsa</td>\n      <td>4.1</td>\n      <td>775</td>\n      <td>Banashankari</td>\n      <td>Casual Dining</td>\n      <td>North Indian, Mughlai, Chinese</td>\n      <td>800</td>\n    </tr>\n    <tr>\n      <th>1</th>\n      <td>2nd Floor, 80 Feet Road, Near Big Bazaar, 6th ...</td>\n      <td>Spice Elephant</td>\n      <td>4.1</td>\n      <td>787</td>\n      <td>Banashankari</td>\n      <td>Casual Dining</td>\n      <td>Chinese, North Indian, Thai</td>\n      <td>800</td>\n    </tr>\n    <tr>\n      <th>2</th>\n      <td>1112, Next to KIMS Medical College, 17th Cross...</td>\n      <td>San Churro Cafe</td>\n      <td>3.8</td>\n      <td>918</td>\n      <td>Banashankari</td>\n      <td>Cafe, Casual Dining</td>\n      <td>Cafe, Mexican, Italian</td>\n      <td>800</td>\n    </tr>\n    <tr>\n      <th>3</th>\n      <td>1st Floor, Annakuteera, 3rd Stage, Banashankar...</td>\n      <td>Addhuri Udupi Bhojana</td>\n      <td>3.7</td>\n      <td>88</td>\n      <td>Banashankari</td>\n      <td>Quick Bites</td>\n      <td>South Indian, North Indian</td>\n      <td>300</td>\n    </tr>\n    <tr>\n      <th>4</th>\n      <td>10, 3rd Floor, Lakshmi Associates, Gandhi Baza...</td>\n      <td>Grand Village</td>\n      <td>3.8</td>\n      <td>166</td>\n      <td>Basavanagudi</td>\n      <td>Casual Dining</td>\n      <td>North Indian, Rajasthani</td>\n      <td>600</td>\n    </tr>\n  </tbody>\n</table>\n</div>",
      "text/plain": "                                             address                   name  \\\n0  942, 21st Main Road, 2nd Stage, Banashankari, ...                  Jalsa   \n1  2nd Floor, 80 Feet Road, Near Big Bazaar, 6th ...         Spice Elephant   \n2  1112, Next to KIMS Medical College, 17th Cross...        San Churro Cafe   \n3  1st Floor, Annakuteera, 3rd Stage, Banashankar...  Addhuri Udupi Bhojana   \n4  10, 3rd Floor, Lakshmi Associates, Gandhi Baza...          Grand Village   \n\n   rate  votes      location            rest_type  \\\n0   4.1    775  Banashankari        Casual Dining   \n1   4.1    787  Banashankari        Casual Dining   \n2   3.8    918  Banashankari  Cafe, Casual Dining   \n3   3.7     88  Banashankari          Quick Bites   \n4   3.8    166  Basavanagudi        Casual Dining   \n\n                         cuisines  cost  \n0  North Indian, Mughlai, Chinese   800  \n1     Chinese, North Indian, Thai   800  \n2          Cafe, Mexican, Italian   800  \n3      South Indian, North Indian   300  \n4        North Indian, Rajasthani   600  "
     },
     "execution_count": 3,
     "metadata": {},
     "output_type": "execute_result"
    }
   ],
   "source": [
    "df_zomato = pd.read_feather('../data/zomato_bangalore.feather') # Read file from disk\r\n",
    "df_zomato.head()\r\n",
    "\r\n",
    "#TODO If no API works well enough, attempt to link the data in some other way. Maybe fuzzy matching restaurant names and locations?"
   ]
  },
  {
   "cell_type": "code",
   "execution_count": null,
   "metadata": {},
   "outputs": [],
   "source": []
  },
  {
   "cell_type": "code",
   "execution_count": 14,
   "metadata": {},
   "outputs": [
    {
     "data": {
      "text/html": "<div>\n<style scoped>\n    .dataframe tbody tr th:only-of-type {\n        vertical-align: middle;\n    }\n\n    .dataframe tbody tr th {\n        vertical-align: top;\n    }\n\n    .dataframe thead th {\n        text-align: right;\n    }\n</style>\n<table border=\"1\" class=\"dataframe\">\n  <thead>\n    <tr style=\"text-align: right;\">\n      <th></th>\n      <th>address</th>\n      <th>name</th>\n      <th>rate</th>\n      <th>votes</th>\n      <th>location</th>\n      <th>rest_type</th>\n      <th>cuisines</th>\n      <th>cost</th>\n    </tr>\n  </thead>\n  <tbody>\n    <tr>\n      <th>17190</th>\n      <td>2nd Floor, biriyani&amp;39 House 24th Main, Near P...</td>\n      <td>Biriyani's House</td>\n      <td>NaN</td>\n      <td>0</td>\n      <td>HSR</td>\n      <td>Quick Bites</td>\n      <td>Biryani, North Indian</td>\n      <td>200</td>\n    </tr>\n    <tr>\n      <th>37575</th>\n      <td>286, 2nd Floor, Commercial Plaza, Near Westsid...</td>\n      <td>Petoo</td>\n      <td>3.7</td>\n      <td>32</td>\n      <td>Commercial Street</td>\n      <td>Casual Dining</td>\n      <td>North Indian, Fast Food, Street Food</td>\n      <td>800</td>\n    </tr>\n    <tr>\n      <th>35549</th>\n      <td>28, 4th 'B' Cross, Koramangala 5th Block, Bang...</td>\n      <td>Truffles</td>\n      <td>4.7</td>\n      <td>14723</td>\n      <td>Koramangala 5th Block</td>\n      <td>Cafe, Casual Dining</td>\n      <td>Cafe, American, Burger, Steak</td>\n      <td>900</td>\n    </tr>\n    <tr>\n      <th>28214</th>\n      <td>61, 1st Main Road, Koramangala 7th Block, Bang...</td>\n      <td>Smokey Tribe Restaurant</td>\n      <td>3.8</td>\n      <td>267</td>\n      <td>Koramangala 7th Block</td>\n      <td>Casual Dining</td>\n      <td>North Eastern, Chinese</td>\n      <td>650</td>\n    </tr>\n    <tr>\n      <th>7016</th>\n      <td>35/1B, Munnekolala, Marathahalli, Bangalore</td>\n      <td>Bangaliana</td>\n      <td>3.6</td>\n      <td>124</td>\n      <td>Marathahalli</td>\n      <td>Quick Bites</td>\n      <td>Bengali</td>\n      <td>600</td>\n    </tr>\n    <tr>\n      <th>35697</th>\n      <td>1st cross, Tavarekere Main Road, SG Palya, BTM...</td>\n      <td>Oveanly</td>\n      <td>NaN</td>\n      <td>0</td>\n      <td>BTM</td>\n      <td>Delivery</td>\n      <td>Bakery</td>\n      <td>200</td>\n    </tr>\n    <tr>\n      <th>26133</th>\n      <td>6, Hennur Village, Kalyan Nagar Post, Near Gov...</td>\n      <td>Samosa Singh</td>\n      <td>NaN</td>\n      <td>0</td>\n      <td>Kalyan Nagar</td>\n      <td>Quick Bites</td>\n      <td>North Indian, Mithai</td>\n      <td>250</td>\n    </tr>\n    <tr>\n      <th>37882</th>\n      <td>47/48, Residency Road, Ashok Nagar, Bangalore</td>\n      <td>Hit and Run</td>\n      <td>3.6</td>\n      <td>15</td>\n      <td>Central Bangalore</td>\n      <td>Food Truck</td>\n      <td>Fast Food, Continental</td>\n      <td>350</td>\n    </tr>\n    <tr>\n      <th>15269</th>\n      <td>69, 1st Floor, M.M Road, Frazer Town, Bangalore</td>\n      <td>Alibaba Cafe and Restaurant</td>\n      <td>3.9</td>\n      <td>450</td>\n      <td>Frazer Town</td>\n      <td>Casual Dining</td>\n      <td>Arabian, Middle Eastern</td>\n      <td>700</td>\n    </tr>\n    <tr>\n      <th>24596</th>\n      <td>959, 5th Main, 2nd Block, Kammanahalli, Bangalore</td>\n      <td>Al-Badia Restaurant</td>\n      <td>4.2</td>\n      <td>89</td>\n      <td>Kammanahalli</td>\n      <td>Casual Dining</td>\n      <td>Arabian</td>\n      <td>700</td>\n    </tr>\n  </tbody>\n</table>\n</div>",
      "text/plain": "                                                 address  \\\n17190  2nd Floor, biriyani&39 House 24th Main, Near P...   \n37575  286, 2nd Floor, Commercial Plaza, Near Westsid...   \n35549  28, 4th 'B' Cross, Koramangala 5th Block, Bang...   \n28214  61, 1st Main Road, Koramangala 7th Block, Bang...   \n7016         35/1B, Munnekolala, Marathahalli, Bangalore   \n35697  1st cross, Tavarekere Main Road, SG Palya, BTM...   \n26133  6, Hennur Village, Kalyan Nagar Post, Near Gov...   \n37882      47/48, Residency Road, Ashok Nagar, Bangalore   \n15269    69, 1st Floor, M.M Road, Frazer Town, Bangalore   \n24596  959, 5th Main, 2nd Block, Kammanahalli, Bangalore   \n\n                              name  rate  votes               location  \\\n17190             Biriyani's House   NaN      0                    HSR   \n37575                        Petoo   3.7     32      Commercial Street   \n35549                     Truffles   4.7  14723  Koramangala 5th Block   \n28214      Smokey Tribe Restaurant   3.8    267  Koramangala 7th Block   \n7016                    Bangaliana   3.6    124           Marathahalli   \n35697                      Oveanly   NaN      0                    BTM   \n26133                 Samosa Singh   NaN      0           Kalyan Nagar   \n37882                  Hit and Run   3.6     15      Central Bangalore   \n15269  Alibaba Cafe and Restaurant   3.9    450            Frazer Town   \n24596          Al-Badia Restaurant   4.2     89           Kammanahalli   \n\n                 rest_type                              cuisines  cost  \n17190          Quick Bites                 Biryani, North Indian   200  \n37575        Casual Dining  North Indian, Fast Food, Street Food   800  \n35549  Cafe, Casual Dining         Cafe, American, Burger, Steak   900  \n28214        Casual Dining                North Eastern, Chinese   650  \n7016           Quick Bites                               Bengali   600  \n35697             Delivery                                Bakery   200  \n26133          Quick Bites                  North Indian, Mithai   250  \n37882           Food Truck                Fast Food, Continental   350  \n15269        Casual Dining               Arabian, Middle Eastern   700  \n24596        Casual Dining                               Arabian   700  "
     },
     "execution_count": 14,
     "metadata": {},
     "output_type": "execute_result"
    }
   ],
   "source": [
    "testgc = Nominatim(user_agent='coursera_capstone')\r\n",
    "testlmt = RateLimiter(max_calls=1, period=1)\r\n",
    "testset = df_zomato.sample(n=10)\r\n",
    "testset.head(10)"
   ]
  },
  {
   "cell_type": "code",
   "execution_count": 15,
   "metadata": {},
   "outputs": [
    {
     "name": "stdout",
     "output_type": "stream",
     "text": [
      "Biriyani's House, HSR, Bengaluru\n",
      "None\n",
      "----------\n",
      "\n",
      "Petoo, Commercial Street, Bengaluru\n",
      "None\n",
      "----------\n",
      "\n",
      "Truffles, Koramangala 5th Block, Bengaluru\n",
      "Truffles, 1st A Cross Road, Koramangala 7 Block, Adugodi, South Zone, Bengaluru, Bangalore South, Bangalore Urban, Karnataka, 560029, India\n",
      "----------\n",
      "\n",
      "Smokey Tribe Restaurant, Koramangala 7th Block, Bengaluru\n",
      "None\n",
      "----------\n",
      "\n",
      "Bangaliana, Marathahalli, Bengaluru\n",
      "None\n",
      "----------\n",
      "\n",
      "Oveanly, BTM, Bengaluru\n",
      "None\n",
      "----------\n",
      "\n",
      "Samosa Singh, Kalyan Nagar, Bengaluru\n",
      "None\n",
      "----------\n",
      "\n",
      "Hit and Run, Central Bangalore, Bengaluru\n",
      "None\n",
      "----------\n",
      "\n",
      "Alibaba Cafe and Restaurant, Frazer Town, Bengaluru\n",
      "Alibaba Cafe & Restaurant, No.69,1st floor,, Bourdillon Road, Frazer Town, Pulikeshinagar, East Zone, Bengaluru, Bangalore North, Bangalore Urban, Karnataka, 560005, India\n",
      "----------\n",
      "\n",
      "Al-Badia Restaurant, Kammanahalli, Bengaluru\n",
      "None\n",
      "----------\n",
      "\n"
     ]
    }
   ],
   "source": [
    "for i,r in testset.iterrows():\r\n",
    "    q = ', '.join([r['name'], r['location'], 'Bengaluru'])\r\n",
    "    print(q)\r\n",
    "    with testlmt:\r\n",
    "        resp = testgc.geocode(q)\r\n",
    "    print(resp)\r\n",
    "    print('----------\\n')"
   ]
  },
  {
   "cell_type": "code",
   "execution_count": null,
   "metadata": {},
   "outputs": [],
   "source": []
  }
 ],
 "metadata": {
  "kernelspec": {
   "display_name": "Python 3.8.8 64-bit ('ngj': conda)",
   "name": "python388jvsc74a57bd0bc71f796cde151533783917d293e868237683acb8e46c8549a0341d369f12fc2"
  },
  "language_info": {
   "codemirror_mode": {
    "name": "ipython",
    "version": 3
   },
   "file_extension": ".py",
   "mimetype": "text/x-python",
   "name": "python",
   "nbconvert_exporter": "python",
   "pygments_lexer": "ipython3",
   "version": "3.8.8"
  },
  "orig_nbformat": 2
 },
 "nbformat": 4,
 "nbformat_minor": 2
}